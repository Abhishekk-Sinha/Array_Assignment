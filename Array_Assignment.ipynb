{
  "cells": [
    {
      "cell_type": "markdown",
      "source": [
        "Q.1. Given an array, check if it contains any duplicates or not.\n",
        "arr = [1, 2, 4, 2, 5, 9]\n",
        "Output = True\n"
      ],
      "metadata": {
        "id": "VmYpXdvZriT1"
      }
    },
    {
      "cell_type": "code",
      "execution_count": null,
      "metadata": {
        "id": "_WnaXdvn_kku",
        "colab": {
          "base_uri": "https://localhost:8080/"
        },
        "outputId": "bc3e5255-8554-42a9-c223-5d6e9aea57ad"
      },
      "outputs": [
        {
          "output_type": "stream",
          "name": "stdout",
          "text": [
            "True\n"
          ]
        }
      ],
      "source": [
        "def check(arr):\n",
        "\n",
        "  # Create an empty list to keep track of unique element.\n",
        "  unique_element = []\n",
        "\n",
        "# Iterate through each element in array\n",
        "  for i in arr:\n",
        "\n",
        "#check if the element is already in list\n",
        "    if i in unique_element:\n",
        "      return True    # if a duplicate item found, return True\n",
        "    else :\n",
        "      unique_element.append(i) # otherwise return to the list\n",
        "\n",
        "      # if the loop completes without finding duplicates, return False\n",
        "  return False\n",
        "\n",
        "\n",
        "arr = [1, 2, 4, 2, 5, 9]\n",
        "print(check(arr))"
      ]
    },
    {
      "cell_type": "markdown",
      "source": [
        "- def check(arr): = The function 'check' is defined, which takes an array 'arr' as an argument.\n",
        "\n",
        "- unique_element = []   ==  Create an empty list to keep track of unique element.\n",
        "  \n",
        "\n",
        "- for i in arr:  = Iterate through each element in array\n",
        "  \n",
        "- if i in unique_element: = check if the element is already in list\n",
        "- return True   = if a duplicate item found then its return True.\n",
        "- else :\n",
        "unique_element.append(i)  = if element is not a dublicate, its  otherwise return to the list\n",
        "\n",
        "  - if the loop completes without finding duplicates, return False\n",
        "  return False\n",
        "- After that check 'arr' functiom & get the output.\n",
        "\n",
        "\n"
      ],
      "metadata": {
        "id": "m4yHYq4RgBt3"
      }
    },
    {
      "cell_type": "markdown",
      "source": [
        "Q.2. Given an array and an integer k, rotate the array to the right by k steps.\n",
        "arr = [1, 2, 3, 4, 5, 6, 7]\n",
        "k = 3\n",
        "Output = [5, 6, 7, 1, 2, 3, 4]\n"
      ],
      "metadata": {
        "id": "m1WnqXSUwA4k"
      }
    },
    {
      "cell_type": "code",
      "execution_count": null,
      "metadata": {
        "id": "ypsCxI-cIOcP",
        "colab": {
          "base_uri": "https://localhost:8080/"
        },
        "outputId": "dae42bf4-c5c4-4865-f106-3c7dcde0b81a"
      },
      "outputs": [
        {
          "output_type": "stream",
          "name": "stdout",
          "text": [
            "[5, 6, 7, 1, 2, 3, 4]\n"
          ]
        }
      ],
      "source": [
        "def rotate_arr (arr, k):\n",
        "  #Calculate the effective rotation index\n",
        "  k = k % len(arr)\n",
        "\n",
        "  # Rotate the array using slicing\n",
        "  rotate_arr = arr[k+1:] + arr[:k+1]\n",
        "\n",
        "  return rotate_arr\n",
        "\n",
        "\n",
        "#Driver\n",
        "arr = [1,2,3,4,5,6,7]\n",
        "k = 3\n",
        "print(rotate_arr(arr,k))\n"
      ]
    },
    {
      "cell_type": "markdown",
      "source": [
        "- 1st define the function which takes two parameters arr, k with the help of calculate the effective rotate index.\n",
        "\n",
        "-  k = k % len(arr) = Calculate the effective rotation index by taking the modulus (%) of k with the length of the array (len(arr)). This step is important to handle cases where k is larger than the length of the array.\n",
        "\n",
        "-  rotate_arr = arr[k+1:] + arr[:k+1] =  Rotate the array using slicing, after that create new array be concatenating the element from the index k+1 to the end of the array arr[k+1: ] with the elements from the beginning of the array up to index k+1 (arr[:k+1])\n"
      ],
      "metadata": {
        "id": "hgRoRlXi6WJo"
      }
    },
    {
      "cell_type": "markdown",
      "source": [
        "Q.3\n",
        "Reverse the given array in-place, means without using any extra data structure.\n",
        "arr = [2, 4, 5, 7, 9, 12]\n",
        "Output = [12, 9, 7, 5, 4, 2]\n",
        "\n"
      ],
      "metadata": {
        "id": "KGWZmBEC2_eL"
      }
    },
    {
      "cell_type": "code",
      "execution_count": null,
      "metadata": {
        "id": "QsQyTGPXbiGU",
        "colab": {
          "base_uri": "https://localhost:8080/"
        },
        "outputId": "88d33fa6-aae6-4515-c82d-f6049a3078f4"
      },
      "outputs": [
        {
          "output_type": "stream",
          "name": "stdout",
          "text": [
            "[12, 9, 7, 5, 4, 2]\n"
          ]
        }
      ],
      "source": [
        "def reserve(arr):\n",
        "\n",
        "  #Calculate the half-length of the array\n",
        "  length = int(len(arr)/2)\n",
        "\n",
        "# iterate the loop\n",
        "  for i in range(length):\n",
        "\n",
        "    temp = arr[i]\n",
        "    arr[i] = arr[len(arr) - 1 - i]\n",
        "    arr[len(arr) - 1 - i] = temp\n",
        "  return arr\n",
        "\n",
        "#Driver Code\n",
        "arr = [2, 4, 5, 7, 9, 12]\n",
        "# print(arr[len(arr) -1])\n",
        "print(reserve(arr))\n",
        "\n"
      ]
    },
    {
      "cell_type": "markdown",
      "source": [
        "- 1st define the array with the parameter.\n",
        "- Calculate the half-length of the array by dividing the length of the array (len(arr)) by 2 and converting the result to an integer.\n",
        "- after this completion determine the num. of swaps needed for reverse the array\n",
        "- After, iterate the loop through the 1st half of the array.\n",
        "-     temp = arr[i]\n",
        "    arr[i] = arr[len(arr) - 1 - i]\n",
        "    arr[len(arr) - 1 - i] = temp  ==  Inside the loop, perform the array reversal by swapping elements. The element at index i is swapped with the element at the corresponding position from the end of the array (len(arr) - 1 - i). This is done for each element in the first half of the array."
      ],
      "metadata": {
        "id": "UyLPu6lh8ImT"
      }
    },
    {
      "cell_type": "markdown",
      "source": [
        "Q.4. Given an array of integers, find the maximum element in an array\n",
        "arr = [10, 5, 20, 8, 15]\n",
        "Output = 20\n"
      ],
      "metadata": {
        "id": "gq4kNWu23I0T"
      }
    },
    {
      "cell_type": "code",
      "source": [
        "def max_element(arr,l):\n",
        "  output = max(arr)\n",
        "  return(output)\n",
        "\n",
        "l = len(arr)\n",
        "arr =  [10, 5, 20, 8, 15]\n",
        "print(max_element(arr,l))"
      ],
      "metadata": {
        "colab": {
          "base_uri": "https://localhost:8080/"
        },
        "id": "Kcj7GTrBWWN1",
        "outputId": "edfaeb55-c047-4e29-c932-b9e79a09fed0"
      },
      "execution_count": null,
      "outputs": [
        {
          "output_type": "stream",
          "name": "stdout",
          "text": [
            "20\n"
          ]
        }
      ]
    },
    {
      "cell_type": "code",
      "source": [
        "def max_element(arr,l):\n",
        "  max = arr[0]  # Initialize a variable\n",
        "\n",
        "#Iterate the array elements starting from the 2nd elements\n",
        "  for i in range(1,l):\n",
        "    if arr [i] > max:\n",
        "      max = arr[i]\n",
        "  return max\n",
        "\n",
        "# Driver code\n",
        "l = len(arr)\n",
        "arr =  [10, 5, 20, 8, 15]\n",
        "print(max_element(arr,l))\n"
      ],
      "metadata": {
        "colab": {
          "base_uri": "https://localhost:8080/"
        },
        "id": "os6obS_EhWcM",
        "outputId": "871fd136-a23c-41e9-caa4-080a7896b5da"
      },
      "execution_count": null,
      "outputs": [
        {
          "output_type": "stream",
          "name": "stdout",
          "text": [
            "20\n"
          ]
        }
      ]
    },
    {
      "cell_type": "markdown",
      "source": [
        "- def max_element(arr,l): = The function max_element is defined, which takes two parameters: an array arr and an integer l representing the length of the array.\n",
        "\n",
        "- max = arr[0]  = Initialize a variable max with the first element of the array (arr[0]). This assumes that the array is not empty.\n",
        "\n",
        "-   for i in range(1, l): = Iterate the array elements starting from the 2nd elements i starts from 1.\n",
        "\n",
        "-     if arr[i] > max: = check if the current element (arr[i]) is greater than the current maximum (max).\n",
        "\n",
        "-       max = arr[i] = If the current element is greater, update the maximum value with the current element\n",
        "\n",
        "-   return max = After the loop completes, return the maximum value found in the array.\n",
        "\n",
        "- After that the calculate the length of array using len(arr) & print the result using the max_element function.\n",
        "\n"
      ],
      "metadata": {
        "id": "BZdHAyxB4IIn"
      }
    },
    {
      "cell_type": "markdown",
      "source": [
        "Q.5. Given a sorted array, remove the duplicate element without using any extra data structure.\n",
        "arr = [1, 1, 2, 2, 2, 3, 3, 4, 4, 4, 5, 5]\n",
        "Output = [1, 2, 3, 4, 5]\n"
      ],
      "metadata": {
        "id": "c5yvjC353JNy"
      }
    },
    {
      "cell_type": "code",
      "execution_count": null,
      "metadata": {
        "id": "nbIwoUaVbiJz",
        "colab": {
          "base_uri": "https://localhost:8080/"
        },
        "outputId": "8dc2248e-0780-40f9-ad01-ddba74b11c12"
      },
      "outputs": [
        {
          "output_type": "stream",
          "name": "stdout",
          "text": [
            "[1, 2, 3, 4, 5]\n"
          ]
        }
      ],
      "source": [
        "def remove_duplicates(arr):\n",
        "    if not arr:\n",
        "        return []\n",
        "\n",
        "    # Initialize index to store the position of the next unique element\n",
        "    index = 1\n",
        "\n",
        "    # Iterate through the array starting from the second element\n",
        "    for i in range(1, len(arr)):\n",
        "        # Compare the current element with the previous one\n",
        "        if arr[i] != arr[i - 1]:\n",
        "            # If different, update the next unique element in the array\n",
        "            arr[index] = arr[i]\n",
        "            index += 1\n",
        "\n",
        "    # Slice the array to get the unique elements\n",
        "    return arr[:index]\n",
        "\n",
        "# Driver code\n",
        "arr = [1, 1, 2, 2, 2, 3, 3, 4, 4, 4, 5, 5]\n",
        "output = remove_duplicates(arr)\n",
        "print(output)\n"
      ]
    },
    {
      "cell_type": "markdown",
      "source": [
        "- def remove_duplicates(arr): - this is defined as taking an array as an argument.\n",
        "\n",
        "- if not arr:\n",
        "  return []  - the function che ks if the array is empyty, and if so it returns an empty\n",
        "\n",
        "\n",
        "- index = 1 = Initialize index to 1. This variable will be used to keep track of the position where the next unique element should be placed in the array\n",
        "\n",
        "-  for i in range(1, len(arr)):    Iterate through the array starting from the second element as the 1st element already be considered as unique.\n",
        "   \n",
        "- if arr[i] != arr[i - 1]:      = Compare the current element with the previous one. if they are different, it means we have found a unique element.\n",
        "\n",
        "- arr[index] = arr[i]   index += 1  = if the current element is different from the previous one, we update the next unique element inthe array at the position of index to prepare it for the next unique element.\n",
        "\n",
        "\n",
        "-  return arr[:index] =  Finally we return a Slice the array to get the unique elements.\n",
        "   \n",
        "- After that call the functtion and print the result which contains the unique elements.\n"
      ],
      "metadata": {
        "id": "Y1RS967sSU_A"
      }
    },
    {
      "cell_type": "code",
      "source": [],
      "metadata": {
        "id": "iMEkghSqGN19"
      },
      "execution_count": null,
      "outputs": []
    },
    {
      "cell_type": "markdown",
      "source": [],
      "metadata": {
        "id": "VVsmwQTLv_DC"
      }
    }
  ],
  "metadata": {
    "colab": {
      "provenance": []
    },
    "kernelspec": {
      "display_name": "Python 3",
      "name": "python3"
    },
    "language_info": {
      "name": "python"
    }
  },
  "nbformat": 4,
  "nbformat_minor": 0
}